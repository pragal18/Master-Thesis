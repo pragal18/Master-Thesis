{
 "cells": [
  {
   "cell_type": "code",
   "execution_count": null,
   "metadata": {},
   "outputs": [],
   "source": [
    "num_lines = sum(1 for line in open('nif_context_en.ttl'))  #counts the total number of lines"
   ]
  },
  {
   "cell_type": "code",
   "execution_count": null,
   "metadata": {},
   "outputs": [],
   "source": [
    "previousSubject = None\n",
    "file=open('nif_context_en.ttl',encoding=\"utf-8\")\n",
    "for i in range(29642397):\n",
    "    fileline=file.readline()\n",
    "        s=fileline.find('?')\n",
    "        thisSubject=fileline[29:s]  \n",
    "        if previousSubject==thisSubject:\n",
    "            f.write(fileline);\n",
    "        else :\n",
    "            try:  \n",
    "                f=open(\"Contents/\"+thisSubject+\".ttl\",'a',encoding=\"utf-8\")\n",
    "                f.write(fileline);\n",
    "            except:\n",
    "                pass"
   ]
  },
  {
   "cell_type": "code",
   "execution_count": 3,
   "metadata": {},
   "outputs": [],
   "source": [
    "file=open('nif_context_en.ttl',encoding='utf-8')\n",
    "f=open('Animal.ttl','a',encoding='utf-8')\n",
    "for i in range(29642397) :\n",
    "    fileline=file.readline()\n",
    "    if '<http://dbpedia.org/resource/Animalia_(book)?dbpv=2016-10&nif=context>' in fileline :\n",
    "        f.write(fileline)\n",
    "    "
   ]
  },
  {
   "cell_type": "code",
   "execution_count": 1,
   "metadata": {},
   "outputs": [
    {
     "name": "stdout",
     "output_type": "stream",
     "text": [
      "['2294']\n",
      "[['2294']]\n",
      "[[('2294', 'CD')]]\n",
      "['0']\n",
      "[['0']]\n",
      "[[('0', 'CD')]]\n",
      "[\"Animalia is an illustrated children's book by Graeme Base.\", 'It was originally published in 1986, followed by a tenth anniversary edition in 1996, and a 25th anniversary edition in 2012.', 'Over three million copies have been sold.', 'A special numbered and signed anniversary edition was also published in 1996, with an embossed gold jacket.', 'Synopsis\\nAnimalia is an alliterative alphabet book and contains twenty-six illustrations, one for each letter of the alphabet.', 'Each illustration features an animal from the animal kingdom (A is for alligator, B is for butterfly, etc.)', 'along with a short poem utilizing the letter of the page for many of the words.', 'The illustrations contain many other objects beginning with that letter that the reader can try to identify.', 'As an additional challenge, the author has hidden a picture of himself as a child in every picture.', 'Related products\\nJulia MacRae Books published an Animalia colouring book in 2008.', 'H. N. Abrams also published a wall calendar colouring book version for children the same year.', 'H. N. Abrams published The Animalia Wall Frieze, a fold-out over 26 feet in length, in which the author created new riddles for each letter.', \"The Great American Puzzle Factory created a 300-piece jigsaw puzzle based on the book's cover.\", 'Adaptations\\nA television series was also created, based on the book, which airs in the United States, Australia, Canada, the United Kingdom, Norway and Venezuela.', 'It also airs on Minimax for the Czech Republic and Slovakia.', 'And recently in Greece on the channel ET1.', \"The Australian Children's Television Foundation released a teaching resource DVD-ROM in 2011 to accompany the TV series with teaching aids for classroom use.\", 'In 2010, The Base Factory and AppBooks released Animalia as an application for iPad and iPhone/iPod Touch.', \"Awards\\nAnimalia won the Young Australian's Best Book Award in 1987 for Best Picture Story Book.\", \"The Children's Book Council of Australia designated Animalia a 1987 Picture Book of the Year: Honour Book.\", \"Kid's Own Australian Literature Awards named Animalia the 1988 Picture Book Winner.\", \"References\\n\\n\\nExternal links\\n\\n*  Graeme Base's official website \\n*  Animalia The Television Series official website \\n*  A Learning Time activity guide for Animalia created by The Little Big Book Club\"]\n",
      "[['Animalia', 'is', 'an', 'illustrated', 'children', \"'s\", 'book', 'by', 'Graeme', 'Base', '.'], ['It', 'was', 'originally', 'published', 'in', '1986', ',', 'followed', 'by', 'a', 'tenth', 'anniversary', 'edition', 'in', '1996', ',', 'and', 'a', '25th', 'anniversary', 'edition', 'in', '2012', '.'], ['Over', 'three', 'million', 'copies', 'have', 'been', 'sold', '.'], ['A', 'special', 'numbered', 'and', 'signed', 'anniversary', 'edition', 'was', 'also', 'published', 'in', '1996', ',', 'with', 'an', 'embossed', 'gold', 'jacket', '.'], ['Synopsis', 'Animalia', 'is', 'an', 'alliterative', 'alphabet', 'book', 'and', 'contains', 'twenty-six', 'illustrations', ',', 'one', 'for', 'each', 'letter', 'of', 'the', 'alphabet', '.'], ['Each', 'illustration', 'features', 'an', 'animal', 'from', 'the', 'animal', 'kingdom', '(', 'A', 'is', 'for', 'alligator', ',', 'B', 'is', 'for', 'butterfly', ',', 'etc', '.', ')'], ['along', 'with', 'a', 'short', 'poem', 'utilizing', 'the', 'letter', 'of', 'the', 'page', 'for', 'many', 'of', 'the', 'words', '.'], ['The', 'illustrations', 'contain', 'many', 'other', 'objects', 'beginning', 'with', 'that', 'letter', 'that', 'the', 'reader', 'can', 'try', 'to', 'identify', '.'], ['As', 'an', 'additional', 'challenge', ',', 'the', 'author', 'has', 'hidden', 'a', 'picture', 'of', 'himself', 'as', 'a', 'child', 'in', 'every', 'picture', '.'], ['Related', 'products', 'Julia', 'MacRae', 'Books', 'published', 'an', 'Animalia', 'colouring', 'book', 'in', '2008', '.'], ['H.', 'N.', 'Abrams', 'also', 'published', 'a', 'wall', 'calendar', 'colouring', 'book', 'version', 'for', 'children', 'the', 'same', 'year', '.'], ['H.', 'N.', 'Abrams', 'published', 'The', 'Animalia', 'Wall', 'Frieze', ',', 'a', 'fold-out', 'over', '26', 'feet', 'in', 'length', ',', 'in', 'which', 'the', 'author', 'created', 'new', 'riddles', 'for', 'each', 'letter', '.'], ['The', 'Great', 'American', 'Puzzle', 'Factory', 'created', 'a', '300-piece', 'jigsaw', 'puzzle', 'based', 'on', 'the', 'book', \"'s\", 'cover', '.'], ['Adaptations', 'A', 'television', 'series', 'was', 'also', 'created', ',', 'based', 'on', 'the', 'book', ',', 'which', 'airs', 'in', 'the', 'United', 'States', ',', 'Australia', ',', 'Canada', ',', 'the', 'United', 'Kingdom', ',', 'Norway', 'and', 'Venezuela', '.'], ['It', 'also', 'airs', 'on', 'Minimax', 'for', 'the', 'Czech', 'Republic', 'and', 'Slovakia', '.'], ['And', 'recently', 'in', 'Greece', 'on', 'the', 'channel', 'ET1', '.'], ['The', 'Australian', 'Children', \"'s\", 'Television', 'Foundation', 'released', 'a', 'teaching', 'resource', 'DVD-ROM', 'in', '2011', 'to', 'accompany', 'the', 'TV', 'series', 'with', 'teaching', 'aids', 'for', 'classroom', 'use', '.'], ['In', '2010', ',', 'The', 'Base', 'Factory', 'and', 'AppBooks', 'released', 'Animalia', 'as', 'an', 'application', 'for', 'iPad', 'and', 'iPhone/iPod', 'Touch', '.'], ['Awards', 'Animalia', 'won', 'the', 'Young', 'Australian', \"'s\", 'Best', 'Book', 'Award', 'in', '1987', 'for', 'Best', 'Picture', 'Story', 'Book', '.'], ['The', 'Children', \"'s\", 'Book', 'Council', 'of', 'Australia', 'designated', 'Animalia', 'a', '1987', 'Picture', 'Book', 'of', 'the', 'Year', ':', 'Honour', 'Book', '.'], ['Kid', \"'s\", 'Own', 'Australian', 'Literature', 'Awards', 'named', 'Animalia', 'the', '1988', 'Picture', 'Book', 'Winner', '.'], ['References', 'External', 'links', '*', 'Graeme', 'Base', \"'s\", 'official', 'website', '*', 'Animalia', 'The', 'Television', 'Series', 'official', 'website', '*', 'A', 'Learning', 'Time', 'activity', 'guide', 'for', 'Animalia', 'created', 'by', 'The', 'Little', 'Big', 'Book', 'Club']]\n",
      "[[('Animalia', 'NNP'), ('is', 'VBZ'), ('an', 'DT'), ('illustrated', 'JJ'), ('children', 'NNS'), (\"'s\", 'POS'), ('book', 'NN'), ('by', 'IN'), ('Graeme', 'NNP'), ('Base', 'NNP'), ('.', '.')], [('It', 'PRP'), ('was', 'VBD'), ('originally', 'RB'), ('published', 'VBN'), ('in', 'IN'), ('1986', 'CD'), (',', ','), ('followed', 'VBN'), ('by', 'IN'), ('a', 'DT'), ('tenth', 'JJ'), ('anniversary', 'JJ'), ('edition', 'NN'), ('in', 'IN'), ('1996', 'CD'), (',', ','), ('and', 'CC'), ('a', 'DT'), ('25th', 'JJ'), ('anniversary', 'JJ'), ('edition', 'NN'), ('in', 'IN'), ('2012', 'CD'), ('.', '.')], [('Over', 'IN'), ('three', 'CD'), ('million', 'CD'), ('copies', 'NNS'), ('have', 'VBP'), ('been', 'VBN'), ('sold', 'VBN'), ('.', '.')], [('A', 'DT'), ('special', 'JJ'), ('numbered', 'JJ'), ('and', 'CC'), ('signed', 'VBD'), ('anniversary', 'JJ'), ('edition', 'NN'), ('was', 'VBD'), ('also', 'RB'), ('published', 'VBN'), ('in', 'IN'), ('1996', 'CD'), (',', ','), ('with', 'IN'), ('an', 'DT'), ('embossed', 'JJ'), ('gold', 'NN'), ('jacket', 'NN'), ('.', '.')], [('Synopsis', 'NNP'), ('Animalia', 'NNP'), ('is', 'VBZ'), ('an', 'DT'), ('alliterative', 'JJ'), ('alphabet', 'NN'), ('book', 'NN'), ('and', 'CC'), ('contains', 'VBZ'), ('twenty-six', 'JJ'), ('illustrations', 'NNS'), (',', ','), ('one', 'CD'), ('for', 'IN'), ('each', 'DT'), ('letter', 'NN'), ('of', 'IN'), ('the', 'DT'), ('alphabet', 'NN'), ('.', '.')], [('Each', 'DT'), ('illustration', 'NN'), ('features', 'VBZ'), ('an', 'DT'), ('animal', 'NN'), ('from', 'IN'), ('the', 'DT'), ('animal', 'JJ'), ('kingdom', 'NN'), ('(', '('), ('A', 'DT'), ('is', 'VBZ'), ('for', 'IN'), ('alligator', 'NN'), (',', ','), ('B', 'NNP'), ('is', 'VBZ'), ('for', 'IN'), ('butterfly', 'NN'), (',', ','), ('etc', 'FW'), ('.', '.'), (')', ')')], [('along', 'IN'), ('with', 'IN'), ('a', 'DT'), ('short', 'JJ'), ('poem', 'NN'), ('utilizing', 'VBG'), ('the', 'DT'), ('letter', 'NN'), ('of', 'IN'), ('the', 'DT'), ('page', 'NN'), ('for', 'IN'), ('many', 'JJ'), ('of', 'IN'), ('the', 'DT'), ('words', 'NNS'), ('.', '.')], [('The', 'DT'), ('illustrations', 'NNS'), ('contain', 'VBP'), ('many', 'JJ'), ('other', 'JJ'), ('objects', 'NNS'), ('beginning', 'VBG'), ('with', 'IN'), ('that', 'DT'), ('letter', 'NN'), ('that', 'IN'), ('the', 'DT'), ('reader', 'NN'), ('can', 'MD'), ('try', 'VB'), ('to', 'TO'), ('identify', 'VB'), ('.', '.')], [('As', 'IN'), ('an', 'DT'), ('additional', 'JJ'), ('challenge', 'NN'), (',', ','), ('the', 'DT'), ('author', 'NN'), ('has', 'VBZ'), ('hidden', 'VBN'), ('a', 'DT'), ('picture', 'NN'), ('of', 'IN'), ('himself', 'PRP'), ('as', 'IN'), ('a', 'DT'), ('child', 'NN'), ('in', 'IN'), ('every', 'DT'), ('picture', 'NN'), ('.', '.')], [('Related', 'JJ'), ('products', 'NNS'), ('Julia', 'NNP'), ('MacRae', 'NNP'), ('Books', 'NNP'), ('published', 'VBD'), ('an', 'DT'), ('Animalia', 'NNP'), ('colouring', 'VBG'), ('book', 'NN'), ('in', 'IN'), ('2008', 'CD'), ('.', '.')], [('H.', 'NNP'), ('N.', 'NNP'), ('Abrams', 'NNP'), ('also', 'RB'), ('published', 'VBD'), ('a', 'DT'), ('wall', 'NN'), ('calendar', 'NN'), ('colouring', 'VBG'), ('book', 'NN'), ('version', 'NN'), ('for', 'IN'), ('children', 'NNS'), ('the', 'DT'), ('same', 'JJ'), ('year', 'NN'), ('.', '.')], [('H.', 'NNP'), ('N.', 'NNP'), ('Abrams', 'NNP'), ('published', 'VBD'), ('The', 'DT'), ('Animalia', 'NNP'), ('Wall', 'NNP'), ('Frieze', 'NNP'), (',', ','), ('a', 'DT'), ('fold-out', 'NN'), ('over', 'IN'), ('26', 'CD'), ('feet', 'NNS'), ('in', 'IN'), ('length', 'NN'), (',', ','), ('in', 'IN'), ('which', 'WDT'), ('the', 'DT'), ('author', 'NN'), ('created', 'VBD'), ('new', 'JJ'), ('riddles', 'NNS'), ('for', 'IN'), ('each', 'DT'), ('letter', 'NN'), ('.', '.')], [('The', 'DT'), ('Great', 'JJ'), ('American', 'JJ'), ('Puzzle', 'NNP'), ('Factory', 'NNP'), ('created', 'VBD'), ('a', 'DT'), ('300-piece', 'JJ'), ('jigsaw', 'NN'), ('puzzle', 'NN'), ('based', 'VBN'), ('on', 'IN'), ('the', 'DT'), ('book', 'NN'), (\"'s\", 'POS'), ('cover', 'NN'), ('.', '.')], [('Adaptations', 'NNS'), ('A', 'DT'), ('television', 'NN'), ('series', 'NN'), ('was', 'VBD'), ('also', 'RB'), ('created', 'VBN'), (',', ','), ('based', 'VBN'), ('on', 'IN'), ('the', 'DT'), ('book', 'NN'), (',', ','), ('which', 'WDT'), ('airs', 'VBZ'), ('in', 'IN'), ('the', 'DT'), ('United', 'NNP'), ('States', 'NNPS'), (',', ','), ('Australia', 'NNP'), (',', ','), ('Canada', 'NNP'), (',', ','), ('the', 'DT'), ('United', 'NNP'), ('Kingdom', 'NNP'), (',', ','), ('Norway', 'NNP'), ('and', 'CC'), ('Venezuela', 'NNP'), ('.', '.')], [('It', 'PRP'), ('also', 'RB'), ('airs', 'VBZ'), ('on', 'IN'), ('Minimax', 'NNP'), ('for', 'IN'), ('the', 'DT'), ('Czech', 'NNP'), ('Republic', 'NNP'), ('and', 'CC'), ('Slovakia', 'NNP'), ('.', '.')], [('And', 'CC'), ('recently', 'RB'), ('in', 'IN'), ('Greece', 'NNP'), ('on', 'IN'), ('the', 'DT'), ('channel', 'NN'), ('ET1', 'NNP'), ('.', '.')], [('The', 'DT'), ('Australian', 'JJ'), ('Children', 'NNP'), (\"'s\", 'POS'), ('Television', 'NNP'), ('Foundation', 'NNP'), ('released', 'VBD'), ('a', 'DT'), ('teaching', 'JJ'), ('resource', 'NN'), ('DVD-ROM', 'NNP'), ('in', 'IN'), ('2011', 'CD'), ('to', 'TO'), ('accompany', 'VB'), ('the', 'DT'), ('TV', 'NN'), ('series', 'NN'), ('with', 'IN'), ('teaching', 'JJ'), ('aids', 'NNS'), ('for', 'IN'), ('classroom', 'NN'), ('use', 'NN'), ('.', '.')], [('In', 'IN'), ('2010', 'CD'), (',', ','), ('The', 'DT'), ('Base', 'NNP'), ('Factory', 'NNP'), ('and', 'CC'), ('AppBooks', 'NNP'), ('released', 'VBD'), ('Animalia', 'NNP'), ('as', 'IN'), ('an', 'DT'), ('application', 'NN'), ('for', 'IN'), ('iPad', 'NN'), ('and', 'CC'), ('iPhone/iPod', 'JJ'), ('Touch', 'NNP'), ('.', '.')], [('Awards', 'NNS'), ('Animalia', 'NNP'), ('won', 'VBD'), ('the', 'DT'), ('Young', 'NNP'), ('Australian', 'NNP'), (\"'s\", 'POS'), ('Best', 'NNP'), ('Book', 'NNP'), ('Award', 'NNP'), ('in', 'IN'), ('1987', 'CD'), ('for', 'IN'), ('Best', 'NNP'), ('Picture', 'NNP'), ('Story', 'NNP'), ('Book', 'NNP'), ('.', '.')], [('The', 'DT'), ('Children', 'NNP'), (\"'s\", 'POS'), ('Book', 'NNP'), ('Council', 'NNP'), ('of', 'IN'), ('Australia', 'NNP'), ('designated', 'VBD'), ('Animalia', 'NNP'), ('a', 'DT'), ('1987', 'CD'), ('Picture', 'NNP'), ('Book', 'NNP'), ('of', 'IN'), ('the', 'DT'), ('Year', 'NN'), (':', ':'), ('Honour', 'NNP'), ('Book', 'NNP'), ('.', '.')], [('Kid', 'NNP'), (\"'s\", 'POS'), ('Own', 'JJ'), ('Australian', 'JJ'), ('Literature', 'NN'), ('Awards', 'NNP'), ('named', 'VBD'), ('Animalia', 'NNP'), ('the', 'DT'), ('1988', 'CD'), ('Picture', 'NNP'), ('Book', 'NNP'), ('Winner', 'NNP'), ('.', '.')], [('References', 'NNS'), ('External', 'NNP'), ('links', 'NNS'), ('*', 'VBP'), ('Graeme', 'NNP'), ('Base', 'NNP'), (\"'s\", 'POS'), ('official', 'JJ'), ('website', 'JJ'), ('*', 'NN'), ('Animalia', 'NNP'), ('The', 'DT'), ('Television', 'NNP'), ('Series', 'NNP'), ('official', 'NN'), ('website', 'JJ'), ('*', 'VBZ'), ('A', 'DT'), ('Learning', 'JJ'), ('Time', 'NNP'), ('activity', 'NN'), ('guide', 'NN'), ('for', 'IN'), ('Animalia', 'NNP'), ('created', 'VBN'), ('by', 'IN'), ('The', 'DT'), ('Little', 'NNP'), ('Big', 'NNP'), ('Book', 'NNP'), ('Club', 'NNP')]]\n"
     ]
    }
   ],
   "source": [
    "import rdflib\n",
    "from rdflib import Graph\n",
    "import nltk\n",
    "g = Graph()\n",
    "g.parse('Animal.ttl', format='nt')\n",
    "for s, p, o in g:\n",
    "    if type(o) == rdflib.term.Literal:             \n",
    "        sentences = nltk.sent_tokenize(o)\n",
    "        tokens = [nltk.word_tokenize(sent) for sent in sentences]\n",
    "        print(sentences)\n",
    "        print(tokens)\n",
    "        tagged = [nltk.pos_tag(sent) for sent in tokens] \n",
    "        print(tagged)\n",
    "        "
   ]
  },
  {
   "cell_type": "code",
   "execution_count": null,
   "metadata": {},
   "outputs": [],
   "source": []
  }
 ],
 "metadata": {
  "kernelspec": {
   "display_name": "Python 3",
   "language": "python",
   "name": "python3"
  },
  "language_info": {
   "codemirror_mode": {
    "name": "ipython",
    "version": 3
   },
   "file_extension": ".py",
   "mimetype": "text/x-python",
   "name": "python",
   "nbconvert_exporter": "python",
   "pygments_lexer": "ipython3",
   "version": "3.7.1"
  }
 },
 "nbformat": 4,
 "nbformat_minor": 2
}
