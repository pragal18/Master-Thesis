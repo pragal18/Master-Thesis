{
 "cells": [
  {
   "cell_type": "code",
   "execution_count": null,
   "metadata": {},
   "outputs": [],
   "source": [
    "num_lines = sum(1 for line in open('nif_context_en.ttl')) "
   ]
  },
  {
   "cell_type": "code",
   "execution_count": null,
   "metadata": {},
   "outputs": [],
   "source": [
    "previousSubject = None\n",
    "file=open('nif_context_en.ttl',encoding=\"utf-8\")\n",
    "for i in range(29642397):\n",
    "    fileline=file.readline()\n",
    "        s=fileline.find('?')\n",
    "        thisSubject=fileline[29:s]  \n",
    "        if previousSubject==thisSubject:\n",
    "            f.write(fileline);\n",
    "        else :\n",
    "            try:  \n",
    "                f=open(\"Contents/\"+thisSubject+\".ttl\",'a',encoding=\"utf-8\")\n",
    "                f.write(fileline);\n",
    "            except:\n",
    "                pass"
   ]
  },
  {
   "cell_type": "code",
   "execution_count": 3,
   "metadata": {},
   "outputs": [],
   "source": [
    "file=open('nif_context_en.ttl',encoding='utf-8')\n",
    "f=open('Animal.ttl','a',encoding='utf-8')\n",
    "for i in range(29642397) :\n",
    "    fileline=file.readline()\n",
    "    if '<http://dbpedia.org/resource/Animalia_(book)?dbpv=2016-10&nif=context>' in fileline :\n",
    "        f.write(fileline)\n",
    "    "
   ]
  },
  {
   "cell_type": "code",
   "execution_count": null,
   "metadata": {},
   "outputs": [],
   "source": [
    "import rdflib\n",
    "from rdflib import Graph\n",
    "import nltk\n",
    "g = Graph()\n",
    "g.parse('Animal.ttl', format='nt')\n",
    "for s, p, o in g:\n",
    "    if type(o) == rdflib.term.Literal:             \n",
    "        sentences = nltk.sent_tokenize(o)\n",
    "        tokens = [nltk.word_tokenize(sent) for sent in sentences]\n",
    "        print(sentences)\n",
    "        #print(tokens)\n",
    "        tagged = [nltk.pos_tag(sent) for sent in tokens] \n",
    "        #print(tagged)\n",
    "        "
   ]
  },
  {
   "cell_type": "code",
   "execution_count": null,
   "metadata": {},
   "outputs": [],
   "source": [
    "import rdflib\n",
    "from rdflib import Graph\n",
    "import nltk\n",
    "import ast\n",
    "g = Graph()\n",
    "file=open('hello.ttl','a',encoding='utf-8')\n",
    "g.parse('Animal.ttl', format='nt')\n",
    "for s, p, o in g:\n",
    "    if type(o) == rdflib.term.Literal:            \n",
    "        sentences = nltk.sent_tokenize(o)\n",
    "        print(sentences)\n",
    "#for item in sentences:\n",
    "   # print(item)\n",
    "    #file.write(item)\n",
    "  "
   ]
  },
  {
   "cell_type": "code",
   "execution_count": 3,
   "metadata": {},
   "outputs": [],
   "source": [
    "import nltk.data\n",
    "import codecs\n",
    "import os"
   ]
  },
  {
   "cell_type": "code",
   "execution_count": 21,
   "metadata": {},
   "outputs": [],
   "source": [
    "#doc=codecs.open('onlytext.ttl','r',encoding='utf-8')\n",
    "#content=doc.read()\n",
    "#tokenizer=nltk.data.load('tokenizers/punkt/english.pickle')\n",
    "#print(tokenizer.tokenize(content)[6])"
   ]
  },
  {
   "cell_type": "code",
   "execution_count": null,
   "metadata": {},
   "outputs": [],
   "source": []
  },
  {
   "cell_type": "code",
   "execution_count": 22,
   "metadata": {},
   "outputs": [],
   "source": []
  },
  {
   "cell_type": "code",
   "execution_count": null,
   "metadata": {},
   "outputs": [],
   "source": []
  },
  {
   "cell_type": "code",
   "execution_count": null,
   "metadata": {},
   "outputs": [],
   "source": []
  },
  {
   "cell_type": "code",
   "execution_count": null,
   "metadata": {},
   "outputs": [],
   "source": []
  },
  {
   "cell_type": "code",
   "execution_count": 26,
   "metadata": {},
   "outputs": [
    {
     "name": "stdout",
     "output_type": "stream",
     "text": [
      "(rdflib.term.URIRef('http://dbpedia.org/resource/Andrew_Wiles?dbpv=2016-10&nif=context'), rdflib.term.URIRef('http://persistence.uni-leipzig.org/nlp2rdf/ontologies/nif-core#predLang'), rdflib.term.URIRef('http://lexvo.org/id/iso639-3/eng'))\n",
      "(rdflib.term.URIRef('http://dbpedia.org/resource/Andrew_Wiles?dbpv=2016-10&nif=context'), rdflib.term.URIRef('http://persistence.uni-leipzig.org/nlp2rdf/ontologies/nif-core#beginIndex'), rdflib.term.Literal('0', datatype=rdflib.term.URIRef('http://www.w3.org/2001/XMLSchema#nonNegativeInteger')))\n",
      "(rdflib.term.URIRef('http://dbpedia.org/resource/Andrew_Wiles?dbpv=2016-10&nif=context'), rdflib.term.URIRef('http://persistence.uni-leipzig.org/nlp2rdf/ontologies/nif-core#endIndex'), rdflib.term.Literal('7571', datatype=rdflib.term.URIRef('http://www.w3.org/2001/XMLSchema#nonNegativeInteger')))\n",
      "(rdflib.term.URIRef('http://dbpedia.org/resource/Andrew_Wiles?dbpv=2016-10&nif=context'), rdflib.term.URIRef('http://persistence.uni-leipzig.org/nlp2rdf/ontologies/nif-core#sourceUrl'), rdflib.term.URIRef('http://en.wikipedia.org/wiki/Andrew_Wiles?oldid=744136483'))\n",
      "(rdflib.term.URIRef('http://dbpedia.org/resource/Andrew_Wiles?dbpv=2016-10&nif=context'), rdflib.term.URIRef('http://persistence.uni-leipzig.org/nlp2rdf/ontologies/nif-core#isString'), rdflib.term.Literal('Sir Andrew John Wiles KBE FRS (born 11 April 1953) is a British mathematician and a Royal Society Research Professor at the University of Oxford, specialising in number theory. He is most notable for proving Fermat\\'s Last Theorem, for which he received the 2016 Abel Prize. Wiles has received numerous other honours.\\n\\nEducation and early life\\nWiles was born in 1953 in Cambridge, England, the son of Maurice Frank Wiles (1923–2005), the Regius Professor of Divinity at the University of Oxford, and Patricia Wiles (née Mowll). His father worked as the Chaplain at Ridley Hall, Cambridge, for the years 1952–55. Wiles attended King\\'s College School, Cambridge, and The Leys School, Cambridge. Wiles states that he came across Fermat\\'s Last Theorem on his way home from school when he was 10 years old. He stopped by his local library where he found a book about the theorem. Fascinated by the existence of a theorem that was so easy to state that he, a ten-year-old, could understand it, but nobody had proven it, he decided to be the first person to prove it. However, he soon realised that his knowledge was too limited, so he abandoned his childhood dream, until it was brought back to his attention at the age of 33 by Ken Ribet\\'s 1986 proof of the epsilon conjecture, which Gerhard Frey had previously linked to Fermat\\'s famous equation.\\n\\nCareer and research\\nWiles earned his bachelor\\'s degree in mathematics in 1974 at Merton College, Oxford, and a PhD in 1980 at Clare College, Cambridge. After a stay at the Institute for Advanced Study in New Jersey in 1981, Wiles became a professor at Princeton University. In 1985–86, Wiles was a Guggenheim Fellow at the Institut des Hautes Études Scientifiques near Paris and at the École Normale Supérieure. From 1988 to 1990, Wiles was a Royal Society Research Professor at the University of Oxford, and then he returned to Princeton. He rejoined Oxford in 2011 as Royal Society Research Professor. Wiles\\'s graduate research was guided by John Coates beginning in the summer of 1975. Together these colleagues worked on the arithmetic of elliptic curves with complex multiplication by the methods of Iwasawa theory. He further worked with Barry Mazur on the main conjecture of Iwasawa theory over the rational numbers, and soon afterward, he generalised this result to totally real fields.\\n\\nProof of Fermat\\'s Last Theorem\\n(Main article: Wiles\\'s proof of Fermat\\'s Last Theorem)\\nStarting in mid-1986, based on successive progress of the previous few years of Gerhard Frey, Jean-Pierre Serre and Ken Ribet, it became clear that Fermat\\'s Last Theorem could be proven as a corollary of a limited form of the modularity theorem (unproven at the time and then known as the \"Taniyama–Shimura–Weil conjecture\"). The modularity theorem involved elliptic curves, which was also Wiles\\'s own specialist area. The conjecture was seen by contemporary mathematicians as important, but extraordinarily difficult or perhaps impossible to prove. For example, Wiles\\'s ex-supervisor John Coates states that it seemed \"impossible to actually prove\", and Ken Ribet considered himself \"one of the vast majority of people who believed [it] was completely inaccessible\", adding that \"Andrew Wiles was probably one of the few people on earth who had the audacity to dream that you can actually go and prove [it].\" Despite this, Wiles, with his from-childhood fascination with Fermat\\'s Last Theorem, decided to undertake the challenge of proving the conjecture, at least to the extent needed for Frey\\'s curve. He dedicated all of his research time to this problem for over six years in near-total secrecy, covering up his efforts by releasing prior work in small segments as separate papers and confiding only in his wife. In June 1993, he presented his proof to the public for the first time at a conference in Cambridge. He gave a lecture a day on Monday, Tuesday and Wednesday with the title \\'Modular Forms, Elliptic Curves and Galois Representations.\\' There was no hint in the title that Fermat\\'s last theorem would be discussed, Dr. Ribet said. ... Finally, at the end of his third lecture, Dr. Wiles concluded that he had proved a general case of the Taniyama conjecture. Then, seemingly as an afterthought, he noted that that meant that Fermat\\'s last theorem was true. Q.E.D. In August 1993, it was discovered that the proof contained a flaw in one area. Wiles tried and failed for over a year to repair his proof. According to Wiles, the crucial idea for circumventing, rather than closing this area, came to him on 19 September 1994, when he was on the verge of giving up. Together with his former student Richard Taylor, he published a second paper which circumvented the problem and thus completed the proof. Both papers were published in May 1995 in a dedicated volume of the Annals of Mathematics.\\n\\nRecognition\\nWiles\\'s proof of Fermat\\'s Last Theorem has stood up to the scrutiny of the world\\'s other mathematical experts. Wiles was interviewed for an episode of the BBC documentary series Horizon that focused on Fermat\\'s Last Theorem. This was renamed \"The Proof\", and it was made an episode of the US Public Broadcasting Service\\'s science television series Nova. His work and life are also described in great detail in Simon Singh\\'s popular book Fermat\\'s Last Theorem.\\n\\nAwards and honours\\nWiles has been awarded a number of major prizes in mathematics and science: \\n*  Junior Whitehead Prize of the London Mathematical Society (1988) \\n*  Elected a Fellow of the Royal Society (FRS) in 1989 \\n*  Schock Prize (1995) \\n*  Fermat Prize (1995) \\n*  Wolf Prize in Mathematics (1995/6) \\n*  NAS Award in Mathematics from the National Academy of Sciences (1996) \\n*  Royal Medal (1996) \\n*  Ostrowski Prize (1996) \\n*  Cole Prize (1997) \\n*  Wolfskehl Prize (1997) – see Paul Wolfskehl \\n*  A silver plaque from the International Mathematical Union (1998) recognising his achievements, in place of the Fields Medal, which is restricted to those under 40 (Wiles was 41 when he proved the theorem in 1994) \\n*  King Faisal Prize (1998) \\n*  Clay Research Award (1999) \\n*  Pythagoras Award (Croton, 2004) \\n*  Shaw Prize (2005) \\n*  The asteroid 9999 Wiles was named after Wiles in 1999. \\n*  Knight Commander of the Order of the British Empire (2000) \\n*  The building at the University of Oxford housing the Mathematical Institute is named after Wiles. \\n*  Abel Prize (2016) Wiles\\'s certificate of election to the Royal Society reads: Andrew Wiles is almost unique amongst number-theorists in his ability to bring to bear new tools and new ideas on some of the most intractable problems of number theory. His finest achievement to date has been his proof, in joint work with Mazur, of the \"main conjecture\" of Iwasawa theory for cyclotomic extensions of the rational field. This work settles many of the basic problems on cyclotomic fields which go back to Kummer, and is unquestionably one of the major advances in number theory in our times. Earlier he did deep work on the conjecture of Birch and Swinnerton-Dyer for elliptic curves with complex multiplication – one offshoot of this was his proof of an unexpected and beautiful generalisation of the classical explicit reciprocity laws of Artin–Hasse–Iwasawa. Most recently, he has made new progress on the construction of l-adic representations attached to Hilbert modular forms, and has applied these to prove the \"main conjecture\" for cyclotomic extensions of totally real fields – again a remarkable result since none of the classical tools of cyclotomic fields applied to these problems.\\n\\nReferences\\n'))\n",
      "(rdflib.term.URIRef('http://dbpedia.org/resource/Andrew_Wiles?dbpv=2016-10&nif=context'), rdflib.term.URIRef('http://www.w3.org/1999/02/22-rdf-syntax-ns#type'), rdflib.term.URIRef('http://persistence.uni-leipzig.org/nlp2rdf/ontologies/nif-core#Context'))\n"
     ]
    }
   ],
   "source": [
    "for stmt in graph2:\n",
    "    print(stmt)\n",
    "    "
   ]
  },
  {
   "cell_type": "code",
   "execution_count": null,
   "metadata": {},
   "outputs": [],
   "source": []
  },
  {
   "cell_type": "code",
   "execution_count": 1,
   "metadata": {},
   "outputs": [],
   "source": []
  },
  {
   "cell_type": "code",
   "execution_count": null,
   "metadata": {},
   "outputs": [],
   "source": [
    "import rdflib\n",
    "import nltk\n",
    "from rdflib import Graph,term\n",
    "from rdflib.namespace import RDFS,RDF, FOAF, NamespaceManager\n",
    "nif=rdflib.Namespace(\"http://persistence.uni-leipzig.org/nlp2rdf/ontologies/nif-core#\")\n",
    "#nif=rdflib.term.URIRef('http://persistence.uni-leipzig.org/nlp2rdf/ontologies/nif-core#')\n",
    "\n",
    "graph2=rdflib.Graph()\n",
    "name=\"Animal\"\n",
    "graph2.parse(name+'.ttl',format='nt')\n",
    "g=Graph()\n",
    "s=graph2.serialize(format=\"nt\")\n",
    "count=0\n",
    "#RDF.type= rdflib.term.URIRef(u'http://www.w3.org/1999/02/22-rdf-syntax-ns#type')\n",
    "namespace_manager = NamespaceManager(Graph())\n",
    "namespace_manager.bind('ns1', nif, override=True)\n",
    "\n",
    "for s,p,o in graph2:\n",
    "    \n",
    "    if type(o)==rdflib.term.Literal and nif.isString in p:\n",
    "        sentences = nltk.sent_tokenize(o)\n",
    "        tokens = [nltk.word_tokenize(sent) for sent in sentences]\n",
    "        tokens2= nltk.word_tokenize(o)\n",
    "        for i in sentences:\n",
    "            try:\n",
    "                BI=o.index(i)\n",
    "                EI=o.index(i)+len(i)\n",
    "            except:\n",
    "                pass\n",
    "            \n",
    "            g.add([rdflib.term.URIRef(\"http://dbpedia.org/resource/\"+name+\"?dbpv=2016-10&nif=sentence_\"+str(BI)+\"_\"+str(EI)),RDF.type,nif.Sentence])\n",
    "            g.add([rdflib.term.URIRef(\"http://dbpedia.org/resource/\"+name+\"?dbpv=2016-10&nif=sentence_\"+str(BI)+\"_\"+str(EI)),nif.beginIndex,rdflib.term.Literal(str(BI))])\n",
    "            g.add([rdflib.term.URIRef(\"http://dbpedia.org/resource/\"+name+\"?dbpv=2016-10&nif=sentence_\"+str(BI)+\"_\"+str(EI)),nif.endIndex,rdflib.term.Literal(str(EI))])\n",
    "            g.add([rdflib.term.URIRef(\"http://dbpedia.org/resource/\"+name+\"?dbpv=2016-10&nif=sentence_\"+str(BI)+\"_\"+str(EI)),nif.anchorOf,rdflib.term.Literal(i)])\n",
    "            g.add([rdflib.term.URIRef(\"http://dbpedia.org/resource/\"+name+\"?dbpv=2016-10&nif=sentence_\"+str(BI)+\"_\"+str(EI)),nif.referenceContext,rdflib.term.URIRef(\"http://dbpedia.org/resource/Animalia_(book)?dbpv=2016-10&nif=context\")])\n",
    "    \n",
    "g.bind(\"nif\",nif)  \n",
    "print(g.serialize(format=\"turtle\"))\n",
    "print(g.serialize(destination=\"Animal-sentencesplit2.ttl\",format=\"turtle\"))\n"
   ]
  }
 ],
 "metadata": {
  "kernelspec": {
   "display_name": "Python 3",
   "language": "python",
   "name": "python3"
  },
  "language_info": {
   "codemirror_mode": {
    "name": "ipython",
    "version": 3
   },
   "file_extension": ".py",
   "mimetype": "text/x-python",
   "name": "python",
   "nbconvert_exporter": "python",
   "pygments_lexer": "ipython3",
   "version": "3.7.1"
  }
 },
 "nbformat": 4,
 "nbformat_minor": 2
}
